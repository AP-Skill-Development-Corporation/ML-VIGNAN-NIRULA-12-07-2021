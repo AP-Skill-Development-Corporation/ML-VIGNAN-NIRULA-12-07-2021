{
 "cells": [
  {
   "cell_type": "markdown",
   "metadata": {},
   "source": [
    "- two types of cells\n",
    "    - markdown cell --> to do documentation\n",
    "    - code cell --> to write code.\n",
    "- types of modes:\n",
    "    - edit mode (green color border)\n",
    "        -> here it allows us to edit the text (documentation,code)\n",
    "    - command mode ( blue color border)\n",
    "        -> it allows to use commands.\n",
    "        --> press esc button to change the cell to command mode.\n",
    "        --> esc+a --> new cell will be create above the current cell\n",
    "        --> esc+b --> to create a cell below the current cell\n",
    "        --> esc+ dd --> to delete any cell"
   ]
  },
  {
   "cell_type": "markdown",
   "metadata": {},
   "source": [
    "# Heading name\n",
    "## H2\n",
    "### h3\n",
    "###### h6"
   ]
  },
  {
   "cell_type": "markdown",
   "metadata": {},
   "source": [
    "* Lists\n",
    "    * sublist1\n",
    "        * sub-list1-1\n",
    "    * sublist2"
   ]
  },
  {
   "cell_type": "markdown",
   "metadata": {},
   "source": [
    "## Python Basics"
   ]
  },
  {
   "cell_type": "code",
   "execution_count": 4,
   "metadata": {
    "collapsed": true
   },
   "outputs": [
    {
     "name": "stdout",
     "output_type": "stream",
     "text": [
      "20\n",
      "100\n"
     ]
    }
   ],
   "source": [
    "# variables\n",
    "# VALID: a,_a, aa,a2 , a123, S, Sd,Vs etc\n",
    "## INVALID : 2a, a$, int,print,123 , @ab etc\n",
    "a = 20\n",
    "\n",
    "type(a)\n",
    "print(a)\n",
    "print(100)"
   ]
  },
  {
   "cell_type": "code",
   "execution_count": 6,
   "metadata": {
    "collapsed": true
   },
   "outputs": [
    {
     "name": "stdout",
     "output_type": "stream",
     "text": [
      "vignan\n"
     ]
    },
    {
     "data": {
      "text/plain": [
       "str"
      ]
     },
     "execution_count": 6,
     "metadata": {},
     "output_type": "execute_result"
    }
   ],
   "source": [
    "W = 'vignan'\n",
    "print(W)\n",
    "type(W)"
   ]
  },
  {
   "cell_type": "code",
   "execution_count": 8,
   "metadata": {
    "collapsed": true
   },
   "outputs": [
    {
     "data": {
      "text/plain": [
       "20"
      ]
     },
     "execution_count": 8,
     "metadata": {},
     "output_type": "execute_result"
    }
   ],
   "source": [
    "W\n",
    "a"
   ]
  },
  {
   "cell_type": "code",
   "execution_count": 9,
   "metadata": {
    "collapsed": true
   },
   "outputs": [
    {
     "name": "stdout",
     "output_type": "stream",
     "text": [
      "vignan\n",
      "20\n"
     ]
    }
   ],
   "source": [
    "print(W)\n",
    "print(a)"
   ]
  },
  {
   "cell_type": "markdown",
   "metadata": {},
   "source": [
    "## Operators\n",
    "- arithmetic op\n",
    "- logical\n",
    "- bitwise\n",
    "- comparison\n",
    "- indentity\n",
    "- membership\n",
    "- assignment"
   ]
  },
  {
   "cell_type": "code",
   "execution_count": 12,
   "metadata": {
    "collapsed": true
   },
   "outputs": [
    {
     "name": "stdout",
     "output_type": "stream",
     "text": [
      "7\n",
      "16\n",
      "64\n"
     ]
    }
   ],
   "source": [
    "a = 7\n",
    "print(a)\n",
    "# add 9 to a and want to ressign the value to a\n",
    "a += 9\n",
    "print(a)\n",
    "\n",
    "# multiply with 4 \n",
    "a *= 4\n",
    "print(a)"
   ]
  },
  {
   "cell_type": "markdown",
   "metadata": {},
   "source": [
    "## Data types\n",
    "\n",
    "- Numbers\n",
    "    - int --> 19,200,1000\n",
    "    - float  --> 9.8,24.78,189.425 \n",
    "    - complex --> 2+6j, 3i etc\n",
    "- Characters\n",
    "    - strings --> 'python',\"vnitsw\"\n",
    "\n",
    "## Data Structures\n",
    "- Strings\n",
    "    - single and double quotes\n",
    "        - single line strings\n",
    "    - Triple quotes\n",
    "        - multiline strings\n",
    "    - string slicing and indexing\n",
    "        - indexing starts from 0\n",
    "        - Types of Indexing:\n",
    "            - 1. Positive or forward\n",
    "            - 2. Negative or Backward\n",
    "        - slicing\n",
    "            - str_name[start:stop:step]\n",
    "    - String methods\n",
    "        - dir(str) ---> this will display all the built-in methods in strings\n",
    "    - immutable\n",
    "- Lists\n",
    "    - we can declare a list ex:[v1,v2,v3,...]\n",
    "    - slicing and indexing are same like in strings\n",
    "    - list methods.\n",
    "    - mutable\n",
    "- Tuples\n",
    "    - immutable\n",
    "    - (v1,v2,v3,....)\n",
    "    - slicing and indexing are same like in strings\n",
    "- Sets\n",
    "    - mutable\n",
    "    - indexing and slicing is not possible.\n",
    "    - un-ordered data structure.\n",
    "    - we use {} to declare a set\n",
    "- Dictionaries\n",
    "    - mutable\n",
    "    - we can store data in the format of : key:value pairs\n",
    "    - {key1:value1,key2:value2,...}"
   ]
  },
  {
   "cell_type": "markdown",
   "metadata": {},
   "source": [
    "## Functions\n",
    "- def func_name(arguments): # func defi\n",
    "    - body of func\n",
    "- func_name(parameters)  # func call\n",
    "\n",
    "- Types of arguments:\n",
    "    - 1. Default arguments\n",
    "    - 2. Required arguments\n",
    "    - 3. Keyword arguments\n",
    "    - 4. Varibale length arguments."
   ]
  },
  {
   "cell_type": "code",
   "execution_count": 20,
   "metadata": {
    "collapsed": true
   },
   "outputs": [
    {
     "ename": "SyntaxError",
     "evalue": "non-default argument follows default argument (<ipython-input-20-04630451abe5>, line 1)",
     "output_type": "error",
     "traceback": [
      "\u001b[1;36m  File \u001b[1;32m\"<ipython-input-20-04630451abe5>\"\u001b[1;36m, line \u001b[1;32m1\u001b[0m\n\u001b[1;33m    def stud_details(name,age= 24,place,rollno):\u001b[0m\n\u001b[1;37m                    ^\u001b[0m\n\u001b[1;31mSyntaxError\u001b[0m\u001b[1;31m:\u001b[0m non-default argument follows default argument\n"
     ]
    }
   ],
   "source": [
    "def stud_details(name,age= 24,place,rollno):\n",
    "    print(name)\n",
    "    print(age)\n",
    "    print(place)\n",
    "    print(rollno)\n",
    "stud_details('vansh','vadlamudi',10234,30)\n",
    "print()\n",
    "stud_details('vijay','hyderabad',10584)"
   ]
  },
  {
   "cell_type": "markdown",
   "metadata": {},
   "source": [
    "### Packages and Modules\n",
    "\n",
    "- Package\n",
    "    - collection of module or set of modules\n",
    "    - it is a folder\n",
    "- Module\n",
    "    - collection of functions without function calls. or classes \n",
    "    - .py file\n",
    "- How can we use these modules and packages ?\n",
    "    - By importing packages and modules we can use the functionalities.\n",
    "    - from and import are the two keywords for importing.\n",
    "        - import module_name\n",
    "        - import module_name as alias_name\n",
    "    - importing packages\n",
    "        - import package_name\n",
    "        - from package_name import module_name,module_name2\n",
    "        - import package_name.module_name as alias_name\n",
    "        - from package_name import module_name as alias_name"
   ]
  },
  {
   "cell_type": "markdown",
   "metadata": {},
   "source": [
    "## Machine Learning\n",
    "\n",
    "- Definition: To make machine can learn from past data to predict future.\n",
    "- Data : raw facts with impurities\n",
    "- Information : which is required format.\n",
    "\n",
    "- Supervised Learning\n",
    "- Unsupervised Learning\n",
    "- Reinforcement"
   ]
  },
  {
   "cell_type": "code",
   "execution_count": null,
   "metadata": {},
   "outputs": [],
   "source": [
    "- data collection\n",
    "- data pre-processing --> removal of impurities.\n",
    "- feed the data to the ml model\n",
    "- train model \n",
    "- test model\n",
    "- deployment"
   ]
  },
  {
   "cell_type": "code",
   "execution_count": null,
   "metadata": {},
   "outputs": [],
   "source": []
  },
  {
   "cell_type": "code",
   "execution_count": null,
   "metadata": {},
   "outputs": [],
   "source": []
  }
 ],
 "metadata": {
  "kernelspec": {
   "display_name": "Python 3",
   "language": "python",
   "name": "python3"
  },
  "language_info": {
   "codemirror_mode": {
    "name": "ipython",
    "version": 3
   },
   "file_extension": ".py",
   "mimetype": "text/x-python",
   "name": "python",
   "nbconvert_exporter": "python",
   "pygments_lexer": "ipython3",
   "version": "3.7.6"
  }
 },
 "nbformat": 4,
 "nbformat_minor": 4
}
